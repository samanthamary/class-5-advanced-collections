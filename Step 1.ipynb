{
 "cells": [
  {
   "cell_type": "markdown",
   "metadata": {},
   "source": [
    "# Step 1: String to list\n",
    "\n",
    "For this assignment we're going to parse a string that contains a list of products into a Python list. Storing information in text files is a common practice. In this case, we'll be reading a CSV file, a _Comma separated_ \n",
    "\n",
    "This assignment requires you to parse a string and transform it into a list, here's a an example of a list of products that's stored as a [CSV](https://en.wikipedia.org/wiki/Comma-separated_values) (a comma separated values file).\n",
    "\n",
    "A CSV contains a file in a table-like structure. Here's the same information represented as a spreadsheet (see the [example spreadsheet here](https://docs.google.com/spreadsheets/d/1WxvM9V_rgHlKLhQ7SEz6J7P0t6Nh9oF7-fBr9EZylGs/edit#gid=14362356)):\n",
    "\n",
    "![image](https://user-images.githubusercontent.com/872296/48777158-9b609f00-ecb0-11e8-8bee-e512e8ea7db5.png)\n",
    "\n",
    "\n",
    "This is what the string looks like:"
   ]
  },
  {
   "cell_type": "code",
   "execution_count": 2,
   "metadata": {},
   "outputs": [],
   "source": [
    "products_string = \"\"\"\n",
    "\n",
    "\n",
    "536365,85123A,WHITE HANGING HEART T-LIGHT HOLDER,6,12/1/10 08:26,2.55,17850,United Kingdom\n",
    "\n",
    "536365,71053,WHITE METAL LANTERN,6,12/1/10 08:26,3.39,17850,United Kingdom\n",
    "536365,84406B,CREAM CUPID HEARTS COAT HANGER,8,12/1/10 08:26,2.75,17850,United Kingdom\n",
    "536365,84029G,KNITTED UNION FLAG HOT WATER BOTTLE,6,12/1/10 08:26,3.39,17850,United Kingdom\n",
    "536365,84029E,RED WOOLLY HOTTIE WHITE HEART.,6,12/1/10 08:26,3.39,17850,United Kingdom\n",
    "\n",
    "\n",
    "536365,22752,SET 7 BABUSHKA NESTING BOXES,2,12/1/10 08:26,7.65,17851,United Kingdom\n",
    "536365,21730,GLASS STAR FROSTED T-LIGHT HOLDER,6,12/1/10 08:26,4.25,17851,United Kingdom\n",
    "536366,22633,HAND WARMER UNION JACK,6,12/1/10 08:28,1.85,17851,United Kingdom\n",
    "536366,22632,HAND WARMER RED POLKA DOT,6,12/1/10 08:28,1.85,17851,United Kingdom\n",
    "\n",
    "\"\"\""
   ]
  },
  {
   "cell_type": "markdown",
   "metadata": {},
   "source": [
    "Your job will now be to transform it into something like this:"
   ]
  },
  {
   "cell_type": "code",
   "execution_count": 6,
   "metadata": {},
   "outputs": [
    {
     "data": {
      "text/plain": [
       "[['536365',\n",
       "  '85123A',\n",
       "  'WHITE HANGING HEART T-LIGHT HOLDER',\n",
       "  '6',\n",
       "  '12/1/10 08:26',\n",
       "  '2.55',\n",
       "  '17850',\n",
       "  'United Kingdom'],\n",
       " ['536365',\n",
       "  '71053',\n",
       "  'WHITE METAL LANTERN',\n",
       "  '6',\n",
       "  '12/1/10 08:26',\n",
       "  '3.39',\n",
       "  '17850',\n",
       "  'United Kingdom'],\n",
       " ['536365',\n",
       "  '84406B',\n",
       "  'CREAM CUPID HEARTS COAT HANGER',\n",
       "  '8',\n",
       "  '12/1/10 08:26',\n",
       "  '2.75',\n",
       "  '17850',\n",
       "  'United Kingdom']]"
      ]
     },
     "execution_count": 6,
     "metadata": {},
     "output_type": "execute_result"
    }
   ],
   "source": [
    "[\n",
    "  [\n",
    "    '536365', # Invoice Number\n",
    "    '85123A', # Stock Code\n",
    "    'WHITE HANGING HEART T-LIGHT HOLDER', # Description\n",
    "    '6', # Quantity \n",
    "    '12/1/10 08:26', # Invoice Date\n",
    "    '2.55', # Unit Price\n",
    "    '17850', # Customer ID\n",
    "    'United Kingdom' # Country\n",
    "  ],\n",
    "  [\n",
    "    '536365',\n",
    "    '71053',\n",
    "    'WHITE METAL LANTERN',\n",
    "    '6',\n",
    "    '12/1/10 08:26',\n",
    "    '3.39',\n",
    "    '17850',\n",
    "    'United Kingdom'\n",
    "  ],\n",
    "  [\n",
    "    '536365',\n",
    "    '84406B',\n",
    "    'CREAM CUPID HEARTS COAT HANGER',\n",
    "    '8',\n",
    "    '12/1/10 08:26',\n",
    "    '2.75',\n",
    "    '17850',\n",
    "    'United Kingdom'\n",
    "    ],\n",
    "]"
   ]
  },
  {
   "cell_type": "markdown",
   "metadata": {},
   "source": [
    "As you can see, each \"product line\" is represented as a list, here's just 1 product line (the first one) represented both as a string and as a list:"
   ]
  },
  {
   "cell_type": "code",
   "execution_count": 7,
   "metadata": {},
   "outputs": [
    {
     "data": {
      "text/plain": [
       "'536365,85123A,WHITE HANGING HEART T-LIGHT HOLDER,6,12/1/10 08:26,2.55,17850,United Kingdom'"
      ]
     },
     "execution_count": 7,
     "metadata": {},
     "output_type": "execute_result"
    }
   ],
   "source": [
    "# String\n",
    "\"536365,85123A,WHITE HANGING HEART T-LIGHT HOLDER,6,12/1/10 08:26,2.55,17850,United Kingdom\""
   ]
  },
  {
   "cell_type": "code",
   "execution_count": 8,
   "metadata": {},
   "outputs": [
    {
     "data": {
      "text/plain": [
       "['536365',\n",
       " '85123A',\n",
       " 'WHITE HANGING HEART T-LIGHT HOLDER',\n",
       " '6',\n",
       " '12/1/10 08:26',\n",
       " '2.55',\n",
       " '17850',\n",
       " 'United Kingdom']"
      ]
     },
     "execution_count": 8,
     "metadata": {},
     "output_type": "execute_result"
    }
   ],
   "source": [
    "# List\n",
    "['536365', '85123A', 'WHITE HANGING HEART T-LIGHT HOLDER', '6', '12/1/10 08:26', '2.55', '17850', 'United Kingdom']"
   ]
  },
  {
   "cell_type": "markdown",
   "metadata": {},
   "source": [
    "As you can see, the information encoded is **THE SAME**, it's just different ways of representing it. The advantage is that accessing information in a list is much easier than accessing it from a string. For example, we know that, in the product as a list, the name of the product is stored in the 3rd place (list index `2`):"
   ]
  },
  {
   "cell_type": "code",
   "execution_count": 9,
   "metadata": {},
   "outputs": [
    {
     "data": {
      "text/plain": [
       "['536365',\n",
       " '85123A',\n",
       " 'WHITE HANGING HEART T-LIGHT HOLDER',\n",
       " '6',\n",
       " '12/1/10 08:26',\n",
       " '2.55',\n",
       " '17850',\n",
       " 'United Kingdom']"
      ]
     },
     "execution_count": 9,
     "metadata": {},
     "output_type": "execute_result"
    }
   ],
   "source": [
    "product = ['536365', '85123A', 'WHITE HANGING HEART T-LIGHT HOLDER', '6', '12/1/10 08:26', '2.55', '17850', 'United Kingdom']\n",
    "product"
   ]
  },
  {
   "cell_type": "code",
   "execution_count": 10,
   "metadata": {},
   "outputs": [
    {
     "data": {
      "text/plain": [
       "'WHITE HANGING HEART T-LIGHT HOLDER'"
      ]
     },
     "execution_count": 10,
     "metadata": {},
     "output_type": "execute_result"
    }
   ],
   "source": [
    "# The title:\n",
    "product[2]"
   ]
  },
  {
   "cell_type": "markdown",
   "metadata": {},
   "source": [
    "### Experiments\n",
    "\n",
    "Giving `products_string`, try in the following lines to turn it into a list of lists (as described before). Feel free to create new cells:"
   ]
  },
  {
   "cell_type": "code",
   "execution_count": 1,
   "metadata": {},
   "outputs": [],
   "source": [
    "products_string = \"\"\"\n",
    "\n",
    "\n",
    "536365,85123A,WHITE HANGING HEART T-LIGHT HOLDER,6,12/1/10 08:26,2.55,17850,United Kingdom\n",
    "\n",
    "536365,71053,WHITE METAL LANTERN,6,12/1/10 08:26,3.39,17850,United Kingdom\n",
    "536365,84406B,CREAM CUPID HEARTS COAT HANGER,8,12/1/10 08:26,2.75,17850,United Kingdom\n",
    "536365,84029G,KNITTED UNION FLAG HOT WATER BOTTLE,6,12/1/10 08:26,3.39,17850,United Kingdom\n",
    "536365,84029E,RED WOOLLY HOTTIE WHITE HEART.,6,12/1/10 08:26,3.39,17850,United Kingdom\n",
    "\n",
    "\n",
    "536365,22752,SET 7 BABUSHKA NESTING BOXES,2,12/1/10 08:26,7.65,17851,United Kingdom\n",
    "536365,21730,GLASS STAR FROSTED T-LIGHT HOLDER,6,12/1/10 08:26,4.25,17851,United Kingdom\n",
    "536366,22633,HAND WARMER UNION JACK,6,12/1/10 08:28,1.85,17851,United Kingdom\n",
    "536366,22632,HAND WARMER RED POLKA DOT,6,12/1/10 08:28,1.85,17851,United Kingdom\n",
    "\n",
    "\"\"\""
   ]
  },
  {
   "cell_type": "code",
   "execution_count": null,
   "metadata": {},
   "outputs": [],
   "source": []
  },
  {
   "cell_type": "code",
   "execution_count": null,
   "metadata": {},
   "outputs": [],
   "source": []
  },
  {
   "cell_type": "code",
   "execution_count": null,
   "metadata": {},
   "outputs": [],
   "source": []
  },
  {
   "cell_type": "code",
   "execution_count": null,
   "metadata": {},
   "outputs": [],
   "source": []
  },
  {
   "cell_type": "code",
   "execution_count": null,
   "metadata": {},
   "outputs": [],
   "source": []
  },
  {
   "cell_type": "code",
   "execution_count": null,
   "metadata": {},
   "outputs": [],
   "source": []
  },
  {
   "cell_type": "markdown",
   "metadata": {},
   "source": [
    "### Writing the function\n",
    "\n",
    "Your task now is to complete the function `transform_products_to_list`:"
   ]
  },
  {
   "cell_type": "code",
   "execution_count": 4,
   "metadata": {},
   "outputs": [],
   "source": [
    "def transform_products_to_list(products_string):\n",
    "    pass"
   ]
  },
  {
   "cell_type": "code",
   "execution_count": 11,
   "metadata": {},
   "outputs": [],
   "source": [
    "assert transform_products_to_list(products_string) == [['536365',\n",
    "  '85123A',\n",
    "  'WHITE HANGING HEART T-LIGHT HOLDER',\n",
    "  '6',\n",
    "  '12/1/10 08:26',\n",
    "  '2.55',\n",
    "  '17850',\n",
    "  'United Kingdom'],\n",
    " ['536365',\n",
    "  '71053',\n",
    "  'WHITE METAL LANTERN',\n",
    "  '6',\n",
    "  '12/1/10 08:26',\n",
    "  '3.39',\n",
    "  '17850',\n",
    "  'United Kingdom'],\n",
    " ['536365',\n",
    "  '84406B',\n",
    "  'CREAM CUPID HEARTS COAT HANGER',\n",
    "  '8',\n",
    "  '12/1/10 08:26',\n",
    "  '2.75',\n",
    "  '17850',\n",
    "  'United Kingdom'],\n",
    " ['536365',\n",
    "  '84029G',\n",
    "  'KNITTED UNION FLAG HOT WATER BOTTLE',\n",
    "  '6',\n",
    "  '12/1/10 08:26',\n",
    "  '3.39',\n",
    "  '17850',\n",
    "  'United Kingdom'],\n",
    " ['536365',\n",
    "  '84029E',\n",
    "  'RED WOOLLY HOTTIE WHITE HEART.',\n",
    "  '6',\n",
    "  '12/1/10 08:26',\n",
    "  '3.39',\n",
    "  '17850',\n",
    "  'United Kingdom'],\n",
    " ['536365',\n",
    "  '22752',\n",
    "  'SET 7 BABUSHKA NESTING BOXES',\n",
    "  '2',\n",
    "  '12/1/10 08:26',\n",
    "  '7.65',\n",
    "  '17850',\n",
    "  'United Kingdom'],\n",
    " ['536365',\n",
    "  '21730',\n",
    "  'GLASS STAR FROSTED T-LIGHT HOLDER',\n",
    "  '6',\n",
    "  '12/1/10 08:26',\n",
    "  '4.25',\n",
    "  '17850',\n",
    "  'United Kingdom'],\n",
    " ['536366',\n",
    "  '22633',\n",
    "  'HAND WARMER UNION JACK',\n",
    "  '6',\n",
    "  '12/1/10 08:28',\n",
    "  '1.85',\n",
    "  '17850',\n",
    "  'United Kingdom'],\n",
    " ['536366',\n",
    "  '22632',\n",
    "  'HAND WARMER RED POLKA DOT',\n",
    "  '6',\n",
    "  '12/1/10 08:28',\n",
    "  '1.85',\n",
    "  '17850',\n",
    "  'United Kingdom']]"
   ]
  },
  {
   "cell_type": "markdown",
   "metadata": {},
   "source": [
    "### Done? Run the tests!\n",
    "\n",
    "If you're done with your solution, copy the function inside `step_1.py` and run the tests to verify everything is working:\n",
    "\n",
    "```bash\n",
    "$ py.test tests.py -k step_1\n",
    "```"
   ]
  }
 ],
 "metadata": {
  "kernelspec": {
   "display_name": "Python 3",
   "language": "python",
   "name": "python3"
  },
  "language_info": {
   "codemirror_mode": {
    "name": "ipython",
    "version": 3
   },
   "file_extension": ".py",
   "mimetype": "text/x-python",
   "name": "python",
   "nbconvert_exporter": "python",
   "pygments_lexer": "ipython3",
   "version": "3.6.8"
  }
 },
 "nbformat": 4,
 "nbformat_minor": 2
}
